{
 "cells": [
  {
   "cell_type": "code",
   "execution_count": 1,
   "metadata": {
    "collapsed": true
   },
   "outputs": [],
   "source": [
    "from pyspark import SparkContext\n",
    "sc = SparkContext()"
   ]
  },
  {
   "cell_type": "code",
   "execution_count": 16,
   "metadata": {
    "collapsed": true
   },
   "outputs": [],
   "source": [
    "rdd = sc.textFile(\"/Users/nc374/spark/gutenberg_sub/gutenberg_dataset/1/8/0/1804/1804.txt\")"
   ]
  },
  {
   "cell_type": "code",
   "execution_count": 17,
   "metadata": {},
   "outputs": [
    {
     "data": {
      "text/plain": [
       "34"
      ]
     },
     "execution_count": 17,
     "metadata": {},
     "output_type": "execute_result"
    }
   ],
   "source": [
    "rdd.filter(lambda line: \"mankind\" in line).count()"
   ]
  },
  {
   "cell_type": "code",
   "execution_count": 18,
   "metadata": {},
   "outputs": [],
   "source": [
    "rdd.filter(lambda line: \"mankind\" in line).saveAsTextFile(\"/Users/nc374/datacourses/spark_training/mankindLines.txt\")"
   ]
  },
  {
   "cell_type": "code",
   "execution_count": 19,
   "metadata": {
    "collapsed": true
   },
   "outputs": [],
   "source": [
    "sparkLines = sc.textFile(\"/Users/nc374/datacourses/spark_training/mankindLines.txt/\") #loading from the file"
   ]
  },
  {
   "cell_type": "code",
   "execution_count": 21,
   "metadata": {},
   "outputs": [
    {
     "data": {
      "text/plain": [
       "34"
      ]
     },
     "execution_count": 21,
     "metadata": {},
     "output_type": "execute_result"
    }
   ],
   "source": [
    "sparkLines.count()"
   ]
  },
  {
   "cell_type": "code",
   "execution_count": 43,
   "metadata": {
    "collapsed": true
   },
   "outputs": [],
   "source": [
    "#reading non line-oriented data\n",
    "rdd = sc.wholeTextFiles(\"/Users/nc374/spark/gutenberg_sub/gutenberg_dataset/*/*/*/*\")"
   ]
  },
  {
   "cell_type": "code",
   "execution_count": 46,
   "metadata": {},
   "outputs": [
    {
     "data": {
      "text/plain": [
       "PythonRDD[70] at RDD at PythonRDD.scala:48"
      ]
     },
     "execution_count": 46,
     "metadata": {},
     "output_type": "execute_result"
    }
   ],
   "source": [
    "rdd.filter(lambda line: \"mankind\" in line)"
   ]
  },
  {
   "cell_type": "code",
   "execution_count": 47,
   "metadata": {},
   "outputs": [
    {
     "data": {
      "text/plain": [
       "97"
      ]
     },
     "execution_count": 47,
     "metadata": {},
     "output_type": "execute_result"
    }
   ],
   "source": [
    "rdd.count()"
   ]
  },
  {
   "cell_type": "code",
   "execution_count": 48,
   "metadata": {
    "collapsed": true
   },
   "outputs": [],
   "source": [
    "keys = rdd.map(lambda x:x[0])"
   ]
  },
  {
   "cell_type": "code",
   "execution_count": 49,
   "metadata": {},
   "outputs": [
    {
     "data": {
      "text/plain": [
       "97"
      ]
     },
     "execution_count": 49,
     "metadata": {},
     "output_type": "execute_result"
    }
   ],
   "source": [
    "keys.count()"
   ]
  },
  {
   "cell_type": "code",
   "execution_count": 50,
   "metadata": {},
   "outputs": [
    {
     "data": {
      "text/plain": [
       "['file:/Users/nc374/spark/gutenberg_sub/gutenberg_dataset/9/8/4/9848/9848.txt',\n",
       " 'file:/Users/nc374/spark/gutenberg_sub/gutenberg_dataset/9/2/9/9299/9299.txt',\n",
       " 'file:/Users/nc374/spark/gutenberg_sub/gutenberg_dataset/9/2/6/9263/9263.txt',\n",
       " 'file:/Users/nc374/spark/gutenberg_sub/gutenberg_dataset/7/9/4/7948/7948.txt',\n",
       " 'file:/Users/nc374/spark/gutenberg_sub/gutenberg_dataset/7/0/700/700.txt',\n",
       " 'file:/Users/nc374/spark/gutenberg_sub/gutenberg_dataset/7/8/6/7868/7868.txt',\n",
       " 'file:/Users/nc374/spark/gutenberg_sub/gutenberg_dataset/7/8/3/7835/7835.txt',\n",
       " 'file:/Users/nc374/spark/gutenberg_sub/gutenberg_dataset/7/3/8/7388/7388.txt',\n",
       " 'file:/Users/nc374/spark/gutenberg_sub/gutenberg_dataset/7/3/5/7355/7355.txt',\n",
       " 'file:/Users/nc374/spark/gutenberg_sub/gutenberg_dataset/7/2/5/7254/7254.txt',\n",
       " 'file:/Users/nc374/spark/gutenberg_sub/gutenberg_dataset/7/5/8/7587/7587.txt',\n",
       " 'file:/Users/nc374/spark/gutenberg_sub/gutenberg_dataset/7/5/8/7583/7583.txt',\n",
       " 'file:/Users/nc374/spark/gutenberg_sub/gutenberg_dataset/6/9/2/6925/6925-0.txt',\n",
       " 'file:/Users/nc374/spark/gutenberg_sub/gutenberg_dataset/6/9/5/6956/6956.txt',\n",
       " 'file:/Users/nc374/spark/gutenberg_sub/gutenberg_dataset/6/0/4/6041/6041.txt',\n",
       " 'file:/Users/nc374/spark/gutenberg_sub/gutenberg_dataset/6/0/5/6056/6056.txt',\n",
       " 'file:/Users/nc374/spark/gutenberg_sub/gutenberg_dataset/6/7/9/6790/6790.txt',\n",
       " 'file:/Users/nc374/spark/gutenberg_sub/gutenberg_dataset/6/6/0/6604/6604.txt',\n",
       " 'file:/Users/nc374/spark/gutenberg_sub/gutenberg_dataset/6/6/2/6627/6627.txt',\n",
       " 'file:/Users/nc374/spark/gutenberg_sub/gutenberg_dataset/6/1/6/6168/6168.txt',\n",
       " 'file:/Users/nc374/spark/gutenberg_sub/gutenberg_dataset/6/8/687/687.txt',\n",
       " 'file:/Users/nc374/spark/gutenberg_sub/gutenberg_dataset/6/8/0/6809/6809.txt',\n",
       " 'file:/Users/nc374/spark/gutenberg_sub/gutenberg_dataset/6/8/7/6873/6873.txt',\n",
       " 'file:/Users/nc374/spark/gutenberg_sub/gutenberg_dataset/6/4/9/6492/6492.txt',\n",
       " 'file:/Users/nc374/spark/gutenberg_sub/gutenberg_dataset/6/4/7/6471/6471.txt',\n",
       " 'file:/Users/nc374/spark/gutenberg_sub/gutenberg_dataset/6/4/1/6419/6419.txt',\n",
       " 'file:/Users/nc374/spark/gutenberg_sub/gutenberg_dataset/6/2/6/6262/6262.txt',\n",
       " 'file:/Users/nc374/spark/gutenberg_sub/gutenberg_dataset/1/9/9/1997/1997.txt',\n",
       " 'file:/Users/nc374/spark/gutenberg_sub/gutenberg_dataset/1/9/1/1911/1911.txt',\n",
       " 'file:/Users/nc374/spark/gutenberg_sub/gutenberg_dataset/1/0/103/103.txt',\n",
       " 'file:/Users/nc374/spark/gutenberg_sub/gutenberg_dataset/1/0/3/1038/1038-0.txt',\n",
       " 'file:/Users/nc374/spark/gutenberg_sub/gutenberg_dataset/1/6/2/1625/1625.txt',\n",
       " 'file:/Users/nc374/spark/gutenberg_sub/gutenberg_dataset/1/6/5/1659/1659.txt',\n",
       " 'file:/Users/nc374/spark/gutenberg_sub/gutenberg_dataset/1/1/9/1191/1191.txt',\n",
       " 'file:/Users/nc374/spark/gutenberg_sub/gutenberg_dataset/1/1/9/1195/1195.txt',\n",
       " 'file:/Users/nc374/spark/gutenberg_sub/gutenberg_dataset/1/8/0/1804/1804.txt',\n",
       " 'file:/Users/nc374/spark/gutenberg_sub/gutenberg_dataset/1/8/7/1872/1872.txt',\n",
       " 'file:/Users/nc374/spark/gutenberg_sub/gutenberg_dataset/1/8/1/1812/1812.txt',\n",
       " 'file:/Users/nc374/spark/gutenberg_sub/gutenberg_dataset/1/8/8/1881/1881.txt',\n",
       " 'file:/Users/nc374/spark/gutenberg_sub/gutenberg_dataset/1/4/6/1463/1463.txt',\n",
       " 'file:/Users/nc374/spark/gutenberg_sub/gutenberg_dataset/1/4/4/1444/1444.txt',\n",
       " 'file:/Users/nc374/spark/gutenberg_sub/gutenberg_dataset/1/4/4/1449/1449.txt',\n",
       " 'file:/Users/nc374/spark/gutenberg_sub/gutenberg_dataset/1/3/3/1335/1335.txt',\n",
       " 'file:/Users/nc374/spark/gutenberg_sub/gutenberg_dataset/1/2/1/1213/1213.txt',\n",
       " 'file:/Users/nc374/spark/gutenberg_sub/gutenberg_dataset/1/5/0/1503/1503.txt',\n",
       " 'file:/Users/nc374/spark/gutenberg_sub/gutenberg_dataset/1/5/2/1524/1524.txt',\n",
       " 'file:/Users/nc374/spark/gutenberg_sub/gutenberg_dataset/8/9/4/8946/8946.txt',\n",
       " 'file:/Users/nc374/spark/gutenberg_sub/gutenberg_dataset/8/0/0/8005/8005.txt',\n",
       " 'file:/Users/nc374/spark/gutenberg_sub/gutenberg_dataset/8/0/7/8076/8076.txt',\n",
       " 'file:/Users/nc374/spark/gutenberg_sub/gutenberg_dataset/8/0/1/8012/8012.txt',\n",
       " 'file:/Users/nc374/spark/gutenberg_sub/gutenberg_dataset/8/6/863/863-0.txt',\n",
       " 'file:/Users/nc374/spark/gutenberg_sub/gutenberg_dataset/8/1/1/8112/8112.txt',\n",
       " 'file:/Users/nc374/spark/gutenberg_sub/gutenberg_dataset/8/8/3/8834/8834.txt',\n",
       " 'file:/Users/nc374/spark/gutenberg_sub/gutenberg_dataset/8/4/8/8484/8484.txt',\n",
       " 'file:/Users/nc374/spark/gutenberg_sub/gutenberg_dataset/8/2/8/8282/8282.txt',\n",
       " 'file:/Users/nc374/spark/gutenberg_sub/gutenberg_dataset/8/5/2/8521/8521.txt',\n",
       " 'file:/Users/nc374/spark/gutenberg_sub/gutenberg_dataset/4/9/7/4974/4974.txt',\n",
       " 'file:/Users/nc374/spark/gutenberg_sub/gutenberg_dataset/4/0/8/4081/4081.txt',\n",
       " 'file:/Users/nc374/spark/gutenberg_sub/gutenberg_dataset/4/0/5/4056/4056.txt',\n",
       " 'file:/Users/nc374/spark/gutenberg_sub/gutenberg_dataset/4/7/478/478.txt',\n",
       " 'file:/Users/nc374/spark/gutenberg_sub/gutenberg_dataset/4/6/9/4698/4698.txt',\n",
       " 'file:/Users/nc374/spark/gutenberg_sub/gutenberg_dataset/4/6/1/4619/4619.txt',\n",
       " 'file:/Users/nc374/spark/gutenberg_sub/gutenberg_dataset/4/6/4/4649/4649.txt',\n",
       " 'file:/Users/nc374/spark/gutenberg_sub/gutenberg_dataset/4/8/486/486.txt',\n",
       " 'file:/Users/nc374/spark/gutenberg_sub/gutenberg_dataset/4/4/5/4450/4450.txt',\n",
       " 'file:/Users/nc374/spark/gutenberg_sub/gutenberg_dataset/4/2/4/4240/4240.txt',\n",
       " 'file:/Users/nc374/spark/gutenberg_sub/gutenberg_dataset/4/2/2/4228/4228.txt',\n",
       " 'file:/Users/nc374/spark/gutenberg_sub/gutenberg_dataset/3/9/5/3953/3953.txt',\n",
       " 'file:/Users/nc374/spark/gutenberg_sub/gutenberg_dataset/3/0/6/3062/3062.txt',\n",
       " 'file:/Users/nc374/spark/gutenberg_sub/gutenberg_dataset/3/0/6/3066/3066.txt',\n",
       " 'file:/Users/nc374/spark/gutenberg_sub/gutenberg_dataset/3/6/7/3677/3677.txt',\n",
       " 'file:/Users/nc374/spark/gutenberg_sub/gutenberg_dataset/3/1/1/3113/3113.txt',\n",
       " 'file:/Users/nc374/spark/gutenberg_sub/gutenberg_dataset/3/8/4/3845/3845.txt',\n",
       " 'file:/Users/nc374/spark/gutenberg_sub/gutenberg_dataset/3/3/6/3363/3363.txt',\n",
       " 'file:/Users/nc374/spark/gutenberg_sub/gutenberg_dataset/3/2/7/3273/3273.txt',\n",
       " 'file:/Users/nc374/spark/gutenberg_sub/gutenberg_dataset/3/2/8/3286/3286.txt',\n",
       " 'file:/Users/nc374/spark/gutenberg_sub/gutenberg_dataset/2/9/2/2926/2926.txt',\n",
       " 'file:/Users/nc374/spark/gutenberg_sub/gutenberg_dataset/2/0/5/2059/2059.txt',\n",
       " 'file:/Users/nc374/spark/gutenberg_sub/gutenberg_dataset/2/6/261/261.txt',\n",
       " 'file:/Users/nc374/spark/gutenberg_sub/gutenberg_dataset/2/6/2/2621/2621.txt',\n",
       " 'file:/Users/nc374/spark/gutenberg_sub/gutenberg_dataset/2/1/0/2106/2106.txt',\n",
       " 'file:/Users/nc374/spark/gutenberg_sub/gutenberg_dataset/2/1/3/2136/2136.txt',\n",
       " 'file:/Users/nc374/spark/gutenberg_sub/gutenberg_dataset/2/8/7/2874/2874.txt',\n",
       " 'file:/Users/nc374/spark/gutenberg_sub/gutenberg_dataset/2/4/4/2445/2445.txt',\n",
       " 'file:/Users/nc374/spark/gutenberg_sub/gutenberg_dataset/2/5/9/2592/2592-0.txt',\n",
       " 'file:/Users/nc374/spark/gutenberg_sub/gutenberg_dataset/5/9/4/5944/5944.txt',\n",
       " 'file:/Users/nc374/spark/gutenberg_sub/gutenberg_dataset/5/9/4/5947/5947.txt',\n",
       " 'file:/Users/nc374/spark/gutenberg_sub/gutenberg_dataset/5/0/7/5071/5071.txt',\n",
       " 'file:/Users/nc374/spark/gutenberg_sub/gutenberg_dataset/5/0/500/500.txt',\n",
       " 'file:/Users/nc374/spark/gutenberg_sub/gutenberg_dataset/5/8/7/5876/5876.txt',\n",
       " 'file:/Users/nc374/spark/gutenberg_sub/gutenberg_dataset/5/4/8/5487/5487.txt',\n",
       " 'file:/Users/nc374/spark/gutenberg_sub/gutenberg_dataset/5/4/545/545.txt',\n",
       " 'file:/Users/nc374/spark/gutenberg_sub/gutenberg_dataset/5/4/5/5451/5451.txt',\n",
       " 'file:/Users/nc374/spark/gutenberg_sub/gutenberg_dataset/5/3/0/5305/5305-0.txt',\n",
       " 'file:/Users/nc374/spark/gutenberg_sub/gutenberg_dataset/5/3/5/5356/5356.txt',\n",
       " 'file:/Users/nc374/spark/gutenberg_sub/gutenberg_dataset/5/5/0/5509/5509.txt',\n",
       " 'file:/Users/nc374/spark/gutenberg_sub/gutenberg_dataset/5/5/6/5560/5560.txt']"
      ]
     },
     "execution_count": 50,
     "metadata": {},
     "output_type": "execute_result"
    }
   ],
   "source": [
    "keys.collect()"
   ]
  },
  {
   "cell_type": "code",
   "execution_count": null,
   "metadata": {
    "collapsed": true
   },
   "outputs": [],
   "source": []
  }
 ],
 "metadata": {
  "kernelspec": {
   "display_name": "Python [default]",
   "language": "python",
   "name": "python3"
  },
  "language_info": {
   "codemirror_mode": {
    "name": "ipython",
    "version": 3
   },
   "file_extension": ".py",
   "mimetype": "text/x-python",
   "name": "python",
   "nbconvert_exporter": "python",
   "pygments_lexer": "ipython3",
   "version": "3.5.4"
  },
  "toc": {
   "nav_menu": {},
   "number_sections": true,
   "sideBar": true,
   "skip_h1_title": false,
   "toc_cell": false,
   "toc_position": {},
   "toc_section_display": "block",
   "toc_window_display": false
  }
 },
 "nbformat": 4,
 "nbformat_minor": 2
}
