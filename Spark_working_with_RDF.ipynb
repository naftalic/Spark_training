{
 "cells": [
  {
   "cell_type": "code",
   "execution_count": 1,
   "metadata": {},
   "outputs": [],
   "source": [
    "# import Graph object from rdflib package\n",
    "from rdflib import Graph"
   ]
  },
  {
   "cell_type": "code",
   "execution_count": 2,
   "metadata": {
    "collapsed": true
   },
   "outputs": [],
   "source": [
    "# parse the file supplied with this lesson\n",
    "g = Graph().parse(source=\"pg30291.rdf\")"
   ]
  },
  {
   "cell_type": "code",
   "execution_count": 3,
   "metadata": {},
   "outputs": [
    {
     "data": {
      "text/plain": [
       "139"
      ]
     },
     "execution_count": 3,
     "metadata": {},
     "output_type": "execute_result"
    }
   ],
   "source": [
    "# take the length of the file (number of statements)\n",
    "len(g)"
   ]
  },
  {
   "cell_type": "code",
   "execution_count": 4,
   "metadata": {},
   "outputs": [
    {
     "data": {
      "text/plain": [
       "'<?xml version=\"1.0\" encoding=\"utf-8\"?>\\n<'"
      ]
     },
     "execution_count": 4,
     "metadata": {},
     "output_type": "execute_result"
    }
   ],
   "source": [
    "# you might already have data in a Python object...\n",
    "f = open(\"pg30291.rdf\")\n",
    "text = f.read()\n",
    "f.close()\n",
    "text[0:40]"
   ]
  },
  {
   "cell_type": "code",
   "execution_count": 5,
   "metadata": {},
   "outputs": [
    {
     "data": {
      "text/plain": [
       "139"
      ]
     },
     "execution_count": 5,
     "metadata": {},
     "output_type": "execute_result"
    }
   ],
   "source": [
    "# ...in which case, use parse method to parse data into Graph object\n",
    "h = Graph().parse(data=text)\n",
    "len(h)"
   ]
  },
  {
   "cell_type": "code",
   "execution_count": 7,
   "metadata": {},
   "outputs": [
    {
     "name": "stdout",
     "output_type": "stream",
     "text": [
      "http://www.gutenberg.org/files/30291/30291.txt is of type http://www.gutenberg.org/2009/pgterms/file\n",
      "http://www.gutenberg.org/ebooks/30291.rdf is of type http://www.gutenberg.org/2009/pgterms/file\n",
      "http://www.gutenberg.org/ebooks/30291.kindle.noimages is of type http://www.gutenberg.org/2009/pgterms/file\n",
      "http://www.gutenberg.org/ebooks/30291.epub.noimages is of type http://www.gutenberg.org/2009/pgterms/file\n",
      "http://www.gutenberg.org/files/30291/30291-h/30291-h.htm is of type http://www.gutenberg.org/2009/pgterms/file\n",
      "http://www.gutenberg.org/ebooks/30291.kindle.images is of type http://www.gutenberg.org/2009/pgterms/file\n",
      "http://www.gutenberg.org/files/30291/30291.zip is of type http://www.gutenberg.org/2009/pgterms/file\n",
      "http://www.gutenberg.org/ebooks/30291.epub.images is of type http://www.gutenberg.org/2009/pgterms/file\n",
      "http://www.gutenberg.org/ is of type http://web.resource.org/cc/Work\n",
      "http://www.gutenberg.org/files/30291/30291-8.txt is of type http://www.gutenberg.org/2009/pgterms/file\n",
      "http://www.gutenberg.org/ebooks/30291.txt.utf-8 is of type http://www.gutenberg.org/2009/pgterms/file\n",
      "http://www.gutenberg.org/files/30291/30291-8.zip is of type http://www.gutenberg.org/2009/pgterms/file\n",
      "http://www.gutenberg.org/ebooks/30291 is of type http://www.gutenberg.org/2009/pgterms/ebook\n",
      "http://www.gutenberg.org/2009/agents/34497 is of type http://www.gutenberg.org/2009/pgterms/agent\n",
      "http://www.gutenberg.org/files/30291/30291-h.zip is of type http://www.gutenberg.org/2009/pgterms/file\n"
     ]
    }
   ],
   "source": [
    "# use simple query interface, RDF, to perform pattern matching on triples\n",
    "from rdflib.namespace import RDF\n",
    "for s, p, o in g.triples((None,RDF.type, None)):\n",
    "    print(\"%s is of type %s\" % (s,o))"
   ]
  },
  {
   "cell_type": "code",
   "execution_count": 11,
   "metadata": {},
   "outputs": [],
   "source": [
    "# SPARQL equivalent of above pattern match\n",
    "q = \"\"\"\n",
    "\tPREFIX pgterms: <http://www.gutenberg.org/2009/pgterms/>\n",
    "\n",
    "\tSELECT ?s ?o WHERE {\n",
    "\t\t?s rdf:type ?o .\n",
    "\t}\n",
    "\t\"\"\""
   ]
  },
  {
   "cell_type": "code",
   "execution_count": 13,
   "metadata": {},
   "outputs": [
    {
     "name": "stdout",
     "output_type": "stream",
     "text": [
      "http://www.gutenberg.org/files/30291/30291.txt is of type http://www.gutenberg.org/2009/pgterms/file\n",
      "http://www.gutenberg.org/ebooks/30291.rdf is of type http://www.gutenberg.org/2009/pgterms/file\n",
      "http://www.gutenberg.org/ebooks/30291.kindle.noimages is of type http://www.gutenberg.org/2009/pgterms/file\n",
      "http://www.gutenberg.org/ebooks/30291.epub.noimages is of type http://www.gutenberg.org/2009/pgterms/file\n",
      "http://www.gutenberg.org/files/30291/30291-h/30291-h.htm is of type http://www.gutenberg.org/2009/pgterms/file\n",
      "http://www.gutenberg.org/ebooks/30291.kindle.images is of type http://www.gutenberg.org/2009/pgterms/file\n",
      "http://www.gutenberg.org/files/30291/30291.zip is of type http://www.gutenberg.org/2009/pgterms/file\n",
      "http://www.gutenberg.org/ebooks/30291.epub.images is of type http://www.gutenberg.org/2009/pgterms/file\n",
      "http://www.gutenberg.org/ is of type http://web.resource.org/cc/Work\n",
      "http://www.gutenberg.org/files/30291/30291-8.txt is of type http://www.gutenberg.org/2009/pgterms/file\n",
      "http://www.gutenberg.org/ebooks/30291.txt.utf-8 is of type http://www.gutenberg.org/2009/pgterms/file\n",
      "http://www.gutenberg.org/files/30291/30291-8.zip is of type http://www.gutenberg.org/2009/pgterms/file\n",
      "http://www.gutenberg.org/ebooks/30291 is of type http://www.gutenberg.org/2009/pgterms/ebook\n",
      "http://www.gutenberg.org/2009/agents/34497 is of type http://www.gutenberg.org/2009/pgterms/agent\n",
      "http://www.gutenberg.org/files/30291/30291-h.zip is of type http://www.gutenberg.org/2009/pgterms/file\n"
     ]
    }
   ],
   "source": [
    "# execute query method of the graph object\n",
    "for s, o in g.query(q):\n",
    "\tprint(\"%s is of type %s\" % (s, o))"
   ]
  },
  {
   "cell_type": "code",
   "execution_count": 14,
   "metadata": {},
   "outputs": [
    {
     "name": "stdout",
     "output_type": "stream",
     "text": [
      "Kelly, Eleanor Mercein wrote http://www.gutenberg.org/ebooks/30291\n"
     ]
    }
   ],
   "source": [
    "# get the book's author, as well as the book id\n",
    "q = \"\"\"\n",
    "\tPREFIX pgterms: <http://www.gutenberg.org/2009/pgterms/>\n",
    "\n",
    "\tSELECT DISTINCT ?book ?author WHERE {\n",
    "\t\t?book rdf:type pgterms:ebook .\n",
    "\t\t?book dcterms:creator ?agent .\n",
    "\t\t?agent pgterms:name ?author .\n",
    "\t}\n",
    "\t\"\"\"\n",
    "for book, author in g.query(q):\n",
    "\tprint(\"%s wrote %s\" % (author, book))"
   ]
  },
  {
   "cell_type": "code",
   "execution_count": 15,
   "metadata": {},
   "outputs": [
    {
     "name": "stdout",
     "output_type": "stream",
     "text": [
      "b'@prefix cc: <http://web.resource.org/cc/> .\\n@prefix dcam: <http://purl.org/dc/dcam/> .\\n@prefix dcterms: <http://purl.org/dc/terms/> .\\n@prefix pgterms: <http://www.gutenberg.org/2009/pgterms/> .\\n@prefix rdf: <http://www.w3.org/1999/02/22-rdf-syntax-ns#> .\\n@prefix rdfs: <http://www.w3.org/2000/01/rdf-schema#> .\\n@prefix xml: <http://www.w3.org/XML/1998/namespace> .\\n@prefix xsd: <http://www.w3.org/2001/XMLSchema#> .\\n\\n<http://www.gutenberg.org/> a cc:Work ;\\n    cc:license <http://www.gnu.org/licenses/gpl.html> ;\\n    rdfs:comment \"\"\"Archives containing the RDF files for *all* our books can be downloaded at\\n            http://www.gutenberg.org/wiki/Gutenberg:Feeds#The_Complete_Project_Gutenberg_Catalog\"\"\" .\\n\\n<http://www.gutenberg.org/2009/agents/34497> a pgterms:agent ;\\n    pgterms:alias \"Kelly, Mrs. (Eleanor)\",\\n        \"Mercein, Eleanor\",\\n        \"Mercien, Eleanor Kelly\" ;\\n    pgterms:birthdate 1880 ;\\n    pgterms:deathdate 1968 ;\\n    pgterms:name \"Kelly, Eleanor Mercein\" .\\n\\n<http://www.gutenberg.org/ebooks/30291.epub.images> a pgterms:file ;\\n    dcterms:extent 352688 ;\\n    dcterms:format [ dcam:memberOf dcterms:IMT ;\\n            rdf:value \"application/epub+zip\"^^dcterms:IMT ] ;\\n    dcterms:isFormatOf <http://www.gutenberg.org/ebooks/30291> ;\\n    dcterms:modified \"2016-05-16T01:43:47.293652\"^^xsd:dateTime .\\n\\n<http://www.gutenberg.org/ebooks/30291.epub.noimages> a pgterms:file ;\\n    dcterms:extent 315463 ;\\n    dcterms:format [ dcam:memberOf dcterms:IMT ;\\n            rdf:value \"application/epub+zip\"^^dcterms:IMT ] ;\\n    dcterms:isFormatOf <http://www.gutenberg.org/ebooks/30291> ;\\n    dcterms:modified \"2016-05-16T01:43:48.105623\"^^xsd:dateTime .\\n\\n<http://www.gutenberg.org/ebooks/30291.kindle.images> a pgterms:file ;\\n    dcterms:extent 1414708 ;\\n    dcterms:format [ dcam:memberOf dcterms:IMT ;\\n            rdf:value \"application/x-mobipocket-ebook\"^^dcterms:IMT ] ;\\n    dcterms:isFormatOf <http://www.gutenberg.org/ebooks/30291> ;\\n    dcterms:modified \"2016-05-16T01:43:51.138485\"^^xsd:dateTime .\\n\\n<http://www.gutenberg.org/ebooks/30291.kindle.noimages> a pgterms:file ;\\n    dcterms:extent 1340799 ;\\n    dcterms:format [ dcam:memberOf dcterms:IMT ;\\n            rdf:value \"application/x-mobipocket-ebook\"^^dcterms:IMT ] ;\\n    dcterms:isFormatOf <http://www.gutenberg.org/ebooks/30291> ;\\n    dcterms:modified \"2016-05-16T01:43:54.196357\"^^xsd:dateTime .\\n\\n<http://www.gutenberg.org/ebooks/30291.rdf> a pgterms:file ;\\n    dcterms:extent 13431 ;\\n    dcterms:format [ dcam:memberOf dcterms:IMT ;\\n            rdf:value \"application/rdf+xml\"^^dcterms:IMT ] ;\\n    dcterms:isFormatOf <http://www.gutenberg.org/ebooks/30291> ;\\n    dcterms:modified \"2016-05-19T07:32:32.914315\"^^xsd:dateTime .\\n\\n<http://www.gutenberg.org/ebooks/30291.txt.utf-8> a pgterms:file ;\\n    dcterms:extent 743890 ;\\n    dcterms:format [ dcam:memberOf dcterms:IMT ;\\n            rdf:value \"text/plain\"^^dcterms:IMT ] ;\\n    dcterms:isFormatOf <http://www.gutenberg.org/ebooks/30291> ;\\n    dcterms:modified \"2016-05-16T01:43:45.329742\"^^xsd:dateTime .\\n\\n<http://www.gutenberg.org/files/30291/30291-8.txt> a pgterms:file ;\\n    dcterms:extent 743871 ;\\n    dcterms:format [ dcam:memberOf dcterms:IMT ;\\n            rdf:value \"text/plain; charset=iso-8859-1\"^^dcterms:IMT ] ;\\n    dcterms:isFormatOf <http://www.gutenberg.org/ebooks/30291> ;\\n    dcterms:modified \"2009-10-19T22:37:25\"^^xsd:dateTime .\\n\\n<http://www.gutenberg.org/files/30291/30291-8.zip> a pgterms:file ;\\n    dcterms:extent 291558 ;\\n    dcterms:format [ dcam:memberOf dcterms:IMT ;\\n            rdf:value \"text/plain; charset=iso-8859-1\"^^dcterms:IMT ],\\n        [ dcam:memberOf dcterms:IMT ;\\n            rdf:value \"application/zip\"^^dcterms:IMT ] ;\\n    dcterms:isFormatOf <http://www.gutenberg.org/ebooks/30291> ;\\n    dcterms:modified \"2009-10-19T22:37:25\"^^xsd:dateTime .\\n\\n<http://www.gutenberg.org/files/30291/30291-h.zip> a pgterms:file ;\\n    dcterms:extent 340766 ;\\n    dcterms:format [ dcam:memberOf dcterms:IMT ;\\n            rdf:value \"text/html; charset=iso-8859-1\"^^dcterms:IMT ],\\n        [ dcam:memberOf dcterms:IMT ;\\n            rdf:value \"application/zip\"^^dcterms:IMT ] ;\\n    dcterms:isFormatOf <http://www.gutenberg.org/ebooks/30291> ;\\n    dcterms:modified \"2009-10-19T22:45:03\"^^xsd:dateTime .\\n\\n<http://www.gutenberg.org/files/30291/30291-h/30291-h.htm> a pgterms:file ;\\n    dcterms:extent 787411 ;\\n    dcterms:format [ dcam:memberOf dcterms:IMT ;\\n            rdf:value \"text/html; charset=iso-8859-1\"^^dcterms:IMT ] ;\\n    dcterms:isFormatOf <http://www.gutenberg.org/ebooks/30291> ;\\n    dcterms:modified \"2009-10-19T22:42:34\"^^xsd:dateTime .\\n\\n<http://www.gutenberg.org/files/30291/30291.txt> a pgterms:file ;\\n    dcterms:extent 743893 ;\\n    dcterms:format [ dcam:memberOf dcterms:IMT ;\\n            rdf:value \"text/plain; charset=us-ascii\"^^dcterms:IMT ] ;\\n    dcterms:isFormatOf <http://www.gutenberg.org/ebooks/30291> ;\\n    dcterms:modified \"2009-10-19T22:37:25\"^^xsd:dateTime .\\n\\n<http://www.gutenberg.org/files/30291/30291.zip> a pgterms:file ;\\n    dcterms:extent 291476 ;\\n    dcterms:format [ dcam:memberOf dcterms:IMT ;\\n            rdf:value \"text/plain; charset=us-ascii\"^^dcterms:IMT ],\\n        [ dcam:memberOf dcterms:IMT ;\\n            rdf:value \"application/zip\"^^dcterms:IMT ] ;\\n    dcterms:isFormatOf <http://www.gutenberg.org/ebooks/30291> ;\\n    dcterms:modified \"2009-10-19T22:37:25\"^^xsd:dateTime .\\n\\n<http://www.gutenberg.org/ebooks/30291> a pgterms:ebook ;\\n    dcterms:creator <http://www.gutenberg.org/2009/agents/34497> ;\\n    dcterms:hasFormat <http://www.gutenberg.org/ebooks/30291.epub.images>,\\n        <http://www.gutenberg.org/ebooks/30291.epub.noimages>,\\n        <http://www.gutenberg.org/ebooks/30291.kindle.images>,\\n        <http://www.gutenberg.org/ebooks/30291.kindle.noimages>,\\n        <http://www.gutenberg.org/ebooks/30291.rdf>,\\n        <http://www.gutenberg.org/ebooks/30291.txt.utf-8>,\\n        <http://www.gutenberg.org/files/30291/30291-8.txt>,\\n        <http://www.gutenberg.org/files/30291/30291-8.zip>,\\n        <http://www.gutenberg.org/files/30291/30291-h.zip>,\\n        <http://www.gutenberg.org/files/30291/30291-h/30291-h.htm>,\\n        <http://www.gutenberg.org/files/30291/30291.txt>,\\n        <http://www.gutenberg.org/files/30291/30291.zip> ;\\n    dcterms:issued \"2009-10-20\"^^xsd:date ;\\n    dcterms:language [ rdf:value \"en\"^^dcterms:RFC4646 ] ;\\n    dcterms:license <http://www.gutenberg.org/license> ;\\n    dcterms:publisher \"Project Gutenberg\" ;\\n    dcterms:rights \"Public domain in the USA.\" ;\\n    dcterms:subject [ dcam:memberOf dcterms:LCSH ;\\n            rdf:value \"Mothers and daughters -- Fiction\" ],\\n        [ dcam:memberOf dcterms:LCC ;\\n            rdf:value \"PS\" ],\\n        [ dcam:memberOf dcterms:LCSH ;\\n            rdf:value \"Kentucky -- Fiction\" ] ;\\n    dcterms:title \"Kildares of Storm\" ;\\n    dcterms:type [ dcam:memberOf dcterms:DCMIType ;\\n            rdf:value \"Text\" ] ;\\n    pgterms:downloads 4 ;\\n    pgterms:marc010 \"16021973\" ;\\n    pgterms:marc901 \"http://www.gutenberg.org/files/30291/30291-h/images/frontis.jpg\" .\\n\\n'\n"
     ]
    }
   ],
   "source": [
    "# serialize existing graph in turtle format (you may find it easier to read)\n",
    "print(g.serialize(format=\"turtle\"))\n"
   ]
  },
  {
   "cell_type": "code",
   "execution_count": null,
   "metadata": {
    "collapsed": true
   },
   "outputs": [],
   "source": []
  }
 ],
 "metadata": {
  "kernelspec": {
   "display_name": "Python [default]",
   "language": "python",
   "name": "python3"
  },
  "language_info": {
   "codemirror_mode": {
    "name": "ipython",
    "version": 3
   },
   "file_extension": ".py",
   "mimetype": "text/x-python",
   "name": "python",
   "nbconvert_exporter": "python",
   "pygments_lexer": "ipython3",
   "version": "3.5.4"
  },
  "toc": {
   "nav_menu": {},
   "number_sections": true,
   "sideBar": true,
   "skip_h1_title": false,
   "toc_cell": false,
   "toc_position": {},
   "toc_section_display": "block",
   "toc_window_display": false
  }
 },
 "nbformat": 4,
 "nbformat_minor": 2
}
