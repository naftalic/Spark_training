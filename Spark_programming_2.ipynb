{
 "cells": [
  {
   "cell_type": "code",
   "execution_count": 1,
   "metadata": {
    "collapsed": true
   },
   "outputs": [],
   "source": [
    "from math import sqrt"
   ]
  },
  {
   "cell_type": "code",
   "execution_count": 2,
   "metadata": {
    "collapsed": true
   },
   "outputs": [],
   "source": [
    "def isprime(n):\n",
    "    ''' check if integer n is a prime'''\n",
    "    # make sure n is a positive ineteger\n",
    "    n = abs(int(n))\n",
    "    # 0 and 1 are not primes\n",
    "    if n < 2:\n",
    "        return False\n",
    "    # 2 is the only even prime\n",
    "    elif n == 2:\n",
    "        return True\n",
    "    # all other even numbers are not primes\n",
    "    elif n % 2 ==0:\n",
    "        return False\n",
    "    # range starts with 3 and only needs to go up to the integer\n",
    "    # sqrt by odd numbers\n",
    "    for x in range(3, int(sqrt(n))+1, 2):\n",
    "        if n % x == 0:\n",
    "            return False\n",
    "    return True    "
   ]
  },
  {
   "cell_type": "code",
   "execution_count": 3,
   "metadata": {},
   "outputs": [
    {
     "data": {
      "text/plain": [
       "[(0, False, 1),\n",
       " (1, False, 2),\n",
       " (2, True, 2),\n",
       " (3, True, 2),\n",
       " (4, False, 3),\n",
       " (5, True, 3),\n",
       " (6, False, 3),\n",
       " (7, True, 3),\n",
       " (8, False, 3),\n",
       " (9, False, 4),\n",
       " (10, False, 4),\n",
       " (11, True, 4),\n",
       " (12, False, 4),\n",
       " (13, True, 4),\n",
       " (14, False, 4),\n",
       " (15, False, 4),\n",
       " (16, False, 5),\n",
       " (17, True, 5),\n",
       " (18, False, 5),\n",
       " (19, True, 5),\n",
       " (20, False, 5),\n",
       " (21, False, 5),\n",
       " (22, False, 5),\n",
       " (23, True, 5),\n",
       " (24, False, 5)]"
      ]
     },
     "execution_count": 3,
     "metadata": {},
     "output_type": "execute_result"
    }
   ],
   "source": [
    "[(i,isprime(i),int(sqrt(i))+1) for i in range(0,25)]"
   ]
  },
  {
   "cell_type": "code",
   "execution_count": 4,
   "metadata": {
    "collapsed": true
   },
   "outputs": [],
   "source": [
    "from pyspark import SparkContext \n",
    "sc = SparkContext()"
   ]
  },
  {
   "cell_type": "code",
   "execution_count": 5,
   "metadata": {},
   "outputs": [
    {
     "data": {
      "text/plain": [
       "78498"
      ]
     },
     "execution_count": 5,
     "metadata": {},
     "output_type": "execute_result"
    }
   ],
   "source": [
    "# make an RDD of a million elements, filtering out the prime numbers and counting them\n",
    "sc.range(int(1e6)).filter(isprime).count()"
   ]
  },
  {
   "cell_type": "code",
   "execution_count": 6,
   "metadata": {
    "collapsed": true
   },
   "outputs": [],
   "source": [
    "# make an RDD of primes\n",
    "primes = sc.range(1000000).filter(isprime)"
   ]
  },
  {
   "cell_type": "code",
   "execution_count": 7,
   "metadata": {},
   "outputs": [
    {
     "data": {
      "text/plain": [
       "[388697,\n",
       " 292141,\n",
       " 563149,\n",
       " 282389,\n",
       " 946769,\n",
       " 230309,\n",
       " 852259,\n",
       " 680831,\n",
       " 159833,\n",
       " 986767]"
      ]
     },
     "execution_count": 7,
     "metadata": {},
     "output_type": "execute_result"
    }
   ],
   "source": [
    "# take a sample of 10 elements from it\n",
    "primes.takeSample(True, 10)"
   ]
  },
  {
   "cell_type": "code",
   "execution_count": 8,
   "metadata": {},
   "outputs": [
    {
     "data": {
      "text/plain": [
       "[729331, 39451, 814393, 125107, 576581, 226531, 313763, 945631, 525769, 932549]"
      ]
     },
     "execution_count": 8,
     "metadata": {},
     "output_type": "execute_result"
    }
   ],
   "source": [
    "# tell Spark engine you are going to reuse an RDD using cache()\n",
    "primes.cache()\n",
    "# take a sample\n",
    "primes.takeSample(True, 10)"
   ]
  },
  {
   "cell_type": "code",
   "execution_count": 9,
   "metadata": {},
   "outputs": [
    {
     "data": {
      "text/plain": [
       "[104479, 734479, 968963, 521789, 69193, 724643, 56171, 252157, 35863, 846689]"
      ]
     },
     "execution_count": 9,
     "metadata": {},
     "output_type": "execute_result"
    }
   ],
   "source": [
    "# repeating the sampling process is faster the second time...\n",
    "primes.takeSample(True, 10)"
   ]
  },
  {
   "cell_type": "code",
   "execution_count": 10,
   "metadata": {
    "collapsed": true
   },
   "outputs": [],
   "source": [
    "# if RDD very large, cache would exhaust memory\n",
    "# instead use persist() to persist RDD to disk\n",
    "# first redefine RDD as Spark doesn't let you change cacheing of an RDD\n",
    "primes = sc.range(1000000).filter(isprime)"
   ]
  },
  {
   "cell_type": "code",
   "execution_count": 11,
   "metadata": {},
   "outputs": [
    {
     "data": {
      "text/plain": [
       "PythonRDD[11] at RDD at PythonRDD.scala:48"
      ]
     },
     "execution_count": 11,
     "metadata": {},
     "output_type": "execute_result"
    }
   ],
   "source": [
    "from pyspark import StorageLevel\n",
    "primes.persist(StorageLevel.DISK_ONLY) # use MEMORY_AND_DISK if you aren't sure of RDD's size"
   ]
  },
  {
   "cell_type": "code",
   "execution_count": null,
   "metadata": {
    "collapsed": true
   },
   "outputs": [],
   "source": []
  }
 ],
 "metadata": {
  "kernelspec": {
   "display_name": "Python [default]",
   "language": "python",
   "name": "python3"
  },
  "language_info": {
   "codemirror_mode": {
    "name": "ipython",
    "version": 3
   },
   "file_extension": ".py",
   "mimetype": "text/x-python",
   "name": "python",
   "nbconvert_exporter": "python",
   "pygments_lexer": "ipython3",
   "version": "3.5.4"
  },
  "toc": {
   "nav_menu": {},
   "number_sections": true,
   "sideBar": true,
   "skip_h1_title": false,
   "toc_cell": false,
   "toc_position": {},
   "toc_section_display": "block",
   "toc_window_display": false
  }
 },
 "nbformat": 4,
 "nbformat_minor": 2
}
