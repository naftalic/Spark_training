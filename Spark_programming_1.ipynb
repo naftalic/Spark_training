{
 "cells": [
  {
   "cell_type": "code",
   "execution_count": 1,
   "metadata": {},
   "outputs": [],
   "source": [
    "from pyspark import SparkContext \n",
    "sc = SparkContext()"
   ]
  },
  {
   "cell_type": "code",
   "execution_count": 2,
   "metadata": {
    "collapsed": true
   },
   "outputs": [],
   "source": [
    "# read lines of the catalogue index into an RDD, filtering out `None' values\n",
    "rdd = sc.textFile('/Users/nc374/datacourses/spark_training/pgcat/pgcat.json/part-00000').filter(lambda x: x != 'None')"
   ]
  },
  {
   "cell_type": "code",
   "execution_count": 3,
   "metadata": {},
   "outputs": [
    {
     "data": {
      "text/plain": [
       "['{\"id\": 103, \"author\": \"Verne, Jules\", \"book\": \"http://www.gutenberg.org/ebooks/103\", \"title\": \"Around the World in Eighty Days\", \"lang\": \"en\"}',\n",
       " '{\"id\": 1038, \"author\": \"Raleigh, Walter Alexander, Sir\", \"book\": \"http://www.gutenberg.org/ebooks/1038\", \"title\": \"Style\", \"lang\": \"en\"}']"
      ]
     },
     "execution_count": 3,
     "metadata": {},
     "output_type": "execute_result"
    }
   ],
   "source": [
    "# return the first 2 elements in the RDD\n",
    "rdd.take(2)"
   ]
  },
  {
   "cell_type": "code",
   "execution_count": 4,
   "metadata": {},
   "outputs": [],
   "source": [
    "from pyspark.sql import SQLContext\n",
    "sqlContext = SQLContext(sc)"
   ]
  },
  {
   "cell_type": "code",
   "execution_count": 5,
   "metadata": {},
   "outputs": [],
   "source": [
    "#turn JSON data into a dataframe\n",
    "df1 = sqlContext.read.json(rdd)"
   ]
  },
  {
   "cell_type": "code",
   "execution_count": 6,
   "metadata": {},
   "outputs": [
    {
     "name": "stdout",
     "output_type": "stream",
     "text": [
      "+--------------------+--------------------+-----+----+--------------------+\n",
      "|              author|                book|   id|lang|               title|\n",
      "+--------------------+--------------------+-----+----+--------------------+\n",
      "|        Verne, Jules|http://www.gutenb...|  103|  en|Around the World ...|\n",
      "|Raleigh, Walter A...|http://www.gutenb...| 1038|  en|               Style|\n",
      "|  Richardson, Samuel|http://www.gutenb...|10462|  en|Clarissa Harlowe;...|\n",
      "|Wodehouse, P. G. ...|http://www.gutenb...|10586|  en|     Mike and Psmith|\n",
      "|     Godwin, William|http://www.gutenb...|10597|  en|Four Early Pamphlets|\n",
      "+--------------------+--------------------+-----+----+--------------------+\n",
      "\n"
     ]
    }
   ],
   "source": [
    "# inspect dataframe\n",
    "df1.show()"
   ]
  },
  {
   "cell_type": "code",
   "execution_count": 7,
   "metadata": {},
   "outputs": [
    {
     "data": {
      "text/plain": [
       "Row(author='Verne, Jules', book='http://www.gutenberg.org/ebooks/103', id=103, lang='en', title='Around the World in Eighty Days')"
      ]
     },
     "execution_count": 7,
     "metadata": {},
     "output_type": "execute_result"
    }
   ],
   "source": [
    "# look at first row in dataframe (returns Row object)\n",
    "df1.first()"
   ]
  },
  {
   "cell_type": "code",
   "execution_count": 8,
   "metadata": {},
   "outputs": [
    {
     "name": "stdout",
     "output_type": "stream",
     "text": [
      "+--------------------+--------------------+-----+----+--------------------+\n",
      "|              author|                book|   id|lang|               title|\n",
      "+--------------------+--------------------+-----+----+--------------------+\n",
      "|        Verne, Jules|http://www.gutenb...|  103|  en|Around the World ...|\n",
      "|Raleigh, Walter A...|http://www.gutenb...| 1038|  en|               Style|\n",
      "|  Richardson, Samuel|http://www.gutenb...|10462|  en|Clarissa Harlowe;...|\n",
      "|Wodehouse, P. G. ...|http://www.gutenb...|10586|  en|     Mike and Psmith|\n",
      "|     Godwin, William|http://www.gutenb...|10597|  en|Four Early Pamphlets|\n",
      "+--------------------+--------------------+-----+----+--------------------+\n",
      "\n"
     ]
    }
   ],
   "source": [
    "# register dataframe as table for SQL style querying \n",
    "df1.createOrReplaceTempView(\"pgcat\")\n",
    "df1.show()"
   ]
  },
  {
   "cell_type": "code",
   "execution_count": 9,
   "metadata": {},
   "outputs": [],
   "source": [
    "# query dataframe (Spark >=2.0)\n",
    "from pyspark.sql import SQLContext\n",
    "sqlContext = SQLContext(sc)\n",
    "df2 = sqlContext.sql(\"SELECT id, title, author FROM pgcat WHERE lang='en' LIMIT 5\")"
   ]
  },
  {
   "cell_type": "code",
   "execution_count": 10,
   "metadata": {},
   "outputs": [
    {
     "name": "stdout",
     "output_type": "stream",
     "text": [
      "+-----+--------------------+--------------------+\n",
      "|   id|               title|              author|\n",
      "+-----+--------------------+--------------------+\n",
      "|  103|Around the World ...|        Verne, Jules|\n",
      "| 1038|               Style|Raleigh, Walter A...|\n",
      "|10462|Clarissa Harlowe;...|  Richardson, Samuel|\n",
      "|10586|     Mike and Psmith|Wodehouse, P. G. ...|\n",
      "|10597|Four Early Pamphlets|     Godwin, William|\n",
      "+-----+--------------------+--------------------+\n",
      "\n"
     ]
    }
   ],
   "source": [
    "df2.show()"
   ]
  },
  {
   "cell_type": "code",
   "execution_count": null,
   "metadata": {
    "collapsed": true
   },
   "outputs": [],
   "source": []
  },
  {
   "cell_type": "code",
   "execution_count": null,
   "metadata": {
    "collapsed": true
   },
   "outputs": [],
   "source": []
  },
  {
   "cell_type": "code",
   "execution_count": null,
   "metadata": {
    "collapsed": true
   },
   "outputs": [],
   "source": []
  }
 ],
 "metadata": {
  "kernelspec": {
   "display_name": "Python [default]",
   "language": "python",
   "name": "python3"
  },
  "language_info": {
   "codemirror_mode": {
    "name": "ipython",
    "version": 3
   },
   "file_extension": ".py",
   "mimetype": "text/x-python",
   "name": "python",
   "nbconvert_exporter": "python",
   "pygments_lexer": "ipython3",
   "version": "3.5.4"
  },
  "toc": {
   "nav_menu": {},
   "number_sections": true,
   "sideBar": true,
   "skip_h1_title": false,
   "toc_cell": false,
   "toc_position": {},
   "toc_section_display": "block",
   "toc_window_display": false
  }
 },
 "nbformat": 4,
 "nbformat_minor": 2
}
